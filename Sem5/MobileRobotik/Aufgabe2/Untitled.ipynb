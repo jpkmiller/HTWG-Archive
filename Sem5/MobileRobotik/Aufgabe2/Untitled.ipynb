{
 "cells": [
  {
   "cell_type": "code",
   "execution_count": 1,
   "metadata": {},
   "outputs": [],
   "source": [
    "test_list = [(1, 2, 0), (3, 5, 1), (7, 7, 7)]"
   ]
  },
  {
   "cell_type": "code",
   "execution_count": 2,
   "metadata": {},
   "outputs": [
    {
     "name": "stdout",
     "output_type": "stream",
     "text": [
      "1\n",
      "3\n",
      "7\n"
     ]
    }
   ],
   "source": [
    "for x, y, z in test_list:\n",
    "    print(x)"
   ]
  },
  {
   "cell_type": "code",
   "execution_count": 5,
   "metadata": {},
   "outputs": [
    {
     "name": "stdout",
     "output_type": "stream",
     "text": [
      "1 2 0\n",
      "3 5 1\n",
      "7 7 7\n"
     ]
    }
   ],
   "source": [
    "for x, y, z in test_list:\n",
    "    print(str(x) + \" \" + str(y) + \" \" + str(z))"
   ]
  },
  {
   "cell_type": "code",
   "execution_count": 6,
   "metadata": {},
   "outputs": [],
   "source": [
    "test_list2 = [[1, 2, 3], [4, 1, 5]]"
   ]
  },
  {
   "cell_type": "code",
   "execution_count": 8,
   "metadata": {},
   "outputs": [
    {
     "name": "stdout",
     "output_type": "stream",
     "text": [
      "1 2 3\n",
      "4 1 5\n"
     ]
    }
   ],
   "source": [
    "for x, y, z in test_list2:\n",
    "    print(str(x) + \" \" + str(y) + \" \" + str(z))"
   ]
  },
  {
   "cell_type": "code",
   "execution_count": 9,
   "metadata": {},
   "outputs": [
    {
     "ename": "SyntaxError",
     "evalue": "invalid syntax (<ipython-input-9-956a3a1bebd3>, line 1)",
     "output_type": "error",
     "traceback": [
      "\u001b[1;36m  File \u001b[1;32m\"<ipython-input-9-956a3a1bebd3>\"\u001b[1;36m, line \u001b[1;32m1\u001b[0m\n\u001b[1;33m    angles = [[ 6.20249486e-01 -5.98003270e-01  1.59079766e+00], [ 3.68318725e-01 -5.95798141e-02  1.23021328e+00], [-2.88929877e-01 -3.59252500e-03  1.16645759e+00], [-6.15500186e-01 -5.26185819e-01  1.58083907e+00], [-4.36809143e-01 -8.27126997e-01  1.30116613e+00], [ 1.99909527e-01 -8.30237934e-01  1.11545612e+00], [ 6.01156482e-01 -7.15659981e-01  1.55175867e+00], [ 4.93972433e-01 -2.00672010e-01  1.37370715e+00], [-1.03556819e-01  6.60618006e-02  1.08216834e+00], [-5.76942554e-01 -3.67195983e-01  1.50582981e+00], [-5.39931715e-01 -7.93118913e-01  1.44246488e+00], [ 3.16120232e-03 -8.26528691e-01  1.07015278e+00], [ 5.42441180e-01 -7.91441333e-01  1.44652144e+00], [ 5.75092094e-01 -3.62067778e-01  1.50247301e+00], [ 9.73606404e-02  6.71834428e-02  1.08076734e+00], [-4.97170521e-01 -2.05525267e-01  1.37817017e+00], [-5.99935747e-01 -7.18685500e-01  1.54935052e+00], [-1.94071480e-01 -8.30061690e-01  1.11281031e+00], [ 4.40715410e-01 -8.26580441e-01  1.30571172e+00], [ 6.14886662e-01 -5.21473294e-...\u001b[0m\n\u001b[1;37m                                                ^\u001b[0m\n\u001b[1;31mSyntaxError\u001b[0m\u001b[1;31m:\u001b[0m invalid syntax\n"
     ]
    }
   ],
   "source": [
    "angles = [[ 6.20249486e-01 -5.98003270e-01  1.59079766e+00], [ 3.68318725e-01 -5.95798141e-02  1.23021328e+00], [-2.88929877e-01 -3.59252500e-03  1.16645759e+00], [-6.15500186e-01 -5.26185819e-01  1.58083907e+00], [-4.36809143e-01 -8.27126997e-01  1.30116613e+00], [ 1.99909527e-01 -8.30237934e-01  1.11545612e+00], [ 6.01156482e-01 -7.15659981e-01  1.55175867e+00], [ 4.93972433e-01 -2.00672010e-01  1.37370715e+00], [-1.03556819e-01  6.60618006e-02  1.08216834e+00], [-5.76942554e-01 -3.67195983e-01  1.50582981e+00], [-5.39931715e-01 -7.93118913e-01  1.44246488e+00], [ 3.16120232e-03 -8.26528691e-01  1.07015278e+00], [ 5.42441180e-01 -7.91441333e-01  1.44652144e+00], [ 5.75092094e-01 -3.62067778e-01  1.50247301e+00], [ 9.73606404e-02  6.71834428e-02  1.08076734e+00], [-4.97170521e-01 -2.05525267e-01  1.37817017e+00], [-5.99935747e-01 -7.18685500e-01  1.54935052e+00], [-1.94071480e-01 -8.30061690e-01  1.11281031e+00], [ 4.40715410e-01 -8.26580441e-01  1.30571172e+00], [ 6.14886662e-01 -5.21473294e-...\n"
   ]
  },
  {
   "cell_type": "code",
   "execution_count": 10,
   "metadata": {},
   "outputs": [
    {
     "ename": "SyntaxError",
     "evalue": "invalid syntax (<ipython-input-10-23ddd2f7aa86>, line 1)",
     "output_type": "error",
     "traceback": [
      "\u001b[1;36m  File \u001b[1;32m\"<ipython-input-10-23ddd2f7aa86>\"\u001b[1;36m, line \u001b[1;32m1\u001b[0m\n\u001b[1;33m    test_list2 = [[ 6.20249486e-01 -5.98003270e-01  1.59079766e+00], [ 3.68318725e-01 -5.95798141e-02  1.23021328e+00]]\u001b[0m\n\u001b[1;37m                                                    ^\u001b[0m\n\u001b[1;31mSyntaxError\u001b[0m\u001b[1;31m:\u001b[0m invalid syntax\n"
     ]
    }
   ],
   "source": [
    "test_list2 = [[ 6.20249486e-01 -5.98003270e-01  1.59079766e+00], [ 3.68318725e-01 -5.95798141e-02  1.23021328e+00]]"
   ]
  },
  {
   "cell_type": "code",
   "execution_count": 11,
   "metadata": {},
   "outputs": [
    {
     "ename": "SyntaxError",
     "evalue": "invalid syntax (<ipython-input-11-0d3091a67cfd>, line 1)",
     "output_type": "error",
     "traceback": [
      "\u001b[1;36m  File \u001b[1;32m\"<ipython-input-11-0d3091a67cfd>\"\u001b[1;36m, line \u001b[1;32m1\u001b[0m\n\u001b[1;33m    a = [0 1 2]\u001b[0m\n\u001b[1;37m           ^\u001b[0m\n\u001b[1;31mSyntaxError\u001b[0m\u001b[1;31m:\u001b[0m invalid syntax\n"
     ]
    }
   ],
   "source": [
    "a = [0, 1, 2]"
   ]
  }
 ],
 "metadata": {
  "kernelspec": {
   "display_name": "Python 3",
   "language": "python",
   "name": "python3"
  },
  "language_info": {
   "codemirror_mode": {
    "name": "ipython",
    "version": 3
   },
   "file_extension": ".py",
   "mimetype": "text/x-python",
   "name": "python",
   "nbconvert_exporter": "python",
   "pygments_lexer": "ipython3",
   "version": "3.8.3"
  }
 },
 "nbformat": 4,
 "nbformat_minor": 4
}
